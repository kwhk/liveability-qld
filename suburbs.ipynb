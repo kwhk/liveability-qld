{
 "cells": [
  {
   "cell_type": "code",
   "execution_count": 135,
   "metadata": {},
   "outputs": [],
   "source": [
    "import pandas as pd\n",
    "import googlemaps\n",
    "from datetime import datetime\n",
    "import json\n",
    "import requests\n",
    "import math\n",
    "import numpy as np\n",
    "\n",
    "# suburbs is a pandas dataframe read from a csv file. suburbs has only one column called suburb and lists Brisbane\n",
    "# suburbs.\n",
    "suburbs = pd.read_csv(\"suburbs.csv\")\n",
    "\n",
    "# API key removed for security reasons\n",
    "API_KEY = 0"
   ]
  },
  {
   "cell_type": "code",
   "execution_count": 133,
   "metadata": {},
   "outputs": [],
   "source": [
    "# TESTING PURPOSES: \n",
    "# A small Series called common_suburbs with a subset of common suburbs is created so API calls are minimised in \n",
    "# testing. For every element of common_suburbs, spaces are replaced with + and ,QLD is appended to the end. Then, \n",
    "# the elements are concatenated into a string with a | separator and assigned to common_suburbs_str.\n",
    "common_suburbs = suburbs['common_suburb'][:7]\n",
    "common_suburbs = common_suburbs.str.replace(\" \", \"+\") + ',QLD'\n",
    "common_suburbs_str = common_suburbs.str.cat(sep=\"|\")\n",
    "\n",
    "response = requests.get(f'https://maps.googleapis.com/maps/api/distancematrix/json?units=imperial&origins={common_suburbs_str}&destinations={common_suburbs_str}&mode=transit&key={API_KEY}')\n"
   ]
  },
  {
   "cell_type": "code",
   "execution_count": 165,
   "metadata": {},
   "outputs": [
    {
     "data": {
      "text/plain": [
       "['1 min',\n",
       " '46 mins',\n",
       " '1 hour 28 mins',\n",
       " '1 hour 36 mins',\n",
       " '1 hour 6 mins',\n",
       " '1 hour 15 mins',\n",
       " '1 hour 10 mins',\n",
       " '49 mins',\n",
       " '1 min',\n",
       " '42 mins',\n",
       " '44 mins',\n",
       " '23 mins',\n",
       " '17 mins',\n",
       " '17 mins',\n",
       " '1 hour 34 mins',\n",
       " '41 mins',\n",
       " '1 min',\n",
       " '1 hour 2 mins',\n",
       " '1 hour 19 mins',\n",
       " '1 hour 2 mins',\n",
       " '1 hour 5 mins',\n",
       " '1 hour 38 mins',\n",
       " '47 mins',\n",
       " '51 mins',\n",
       " '1 min',\n",
       " '1 hour 38 mins',\n",
       " '1 hour 9 mins',\n",
       " '1 hour 11 mins',\n",
       " '44 mins',\n",
       " '24 mins',\n",
       " '1 hour 9 mins',\n",
       " '1 hour 32 mins',\n",
       " '1 min',\n",
       " '44 mins',\n",
       " '53 mins',\n",
       " '1 hour 18 mins',\n",
       " '21 mins',\n",
       " '1 hour 11 mins',\n",
       " '1 hour 9 mins',\n",
       " '48 mins',\n",
       " '1 min',\n",
       " '44 mins',\n",
       " '1 hour 6 mins',\n",
       " '21 mins',\n",
       " '1 hour 10 mins',\n",
       " '1 hour 18 mins',\n",
       " '47 mins',\n",
       " '41 mins',\n",
       " '1 min']"
      ]
     },
     "execution_count": 165,
     "metadata": {},
     "output_type": "execute_result"
    }
   ],
   "source": [
    "dict_response = json.loads(response.text)\n",
    "test_list = []\n",
    "\n",
    "for routes_from_suburb in dict_response['rows']:\n",
    "    for route in routes_from_suburb['elements']:\n",
    "        test_list.append(route['duration']['text'])\n",
    "    \n",
    "test_list"
   ]
  },
  {
   "cell_type": "code",
   "execution_count": 128,
   "metadata": {},
   "outputs": [
    {
     "data": {
      "text/plain": [
       "'Brisbane+Airport,QLD|Brisbane+City,QLD|Algester,QLD|Archerfield,QLD|Ascot,QLD|Ashgrove,QLD|Auchenflower,QLD'"
      ]
     },
     "execution_count": 128,
     "metadata": {},
     "output_type": "execute_result"
    }
   ],
   "source": [
    "common_suburbs_str"
   ]
  },
  {
   "cell_type": "code",
   "execution_count": 60,
   "metadata": {},
   "outputs": [
    {
     "name": "stdout",
     "output_type": "stream",
     "text": [
      "Brisbane Airport Brisbane Airport\n",
      "Brisbane Airport Brisbane City\n",
      "Brisbane Airport Algester\n",
      "Brisbane Airport Archerfield\n",
      "Brisbane Airport Ascot\n",
      "Brisbane Airport Ashgrove\n",
      "Brisbane Airport Auchenflower\n",
      "Brisbane City Brisbane Airport\n",
      "Brisbane City Brisbane City\n",
      "Brisbane City Algester\n",
      "Brisbane City Archerfield\n",
      "Brisbane City Ascot\n",
      "Brisbane City Ashgrove\n",
      "Brisbane City Auchenflower\n",
      "Algester Brisbane Airport\n",
      "Algester Brisbane City\n",
      "Algester Algester\n",
      "Algester Archerfield\n",
      "Algester Ascot\n",
      "Algester Ashgrove\n",
      "Algester Auchenflower\n",
      "Archerfield Brisbane Airport\n",
      "Archerfield Brisbane City\n",
      "Archerfield Algester\n",
      "Archerfield Archerfield\n",
      "Archerfield Ascot\n",
      "Archerfield Ashgrove\n",
      "Archerfield Auchenflower\n",
      "Ascot Brisbane Airport\n",
      "Ascot Brisbane City\n",
      "Ascot Algester\n",
      "Ascot Archerfield\n",
      "Ascot Ascot\n",
      "Ascot Ashgrove\n",
      "Ascot Auchenflower\n",
      "Ashgrove Brisbane Airport\n",
      "Ashgrove Brisbane City\n",
      "Ashgrove Algester\n",
      "Ashgrove Archerfield\n",
      "Ashgrove Ascot\n",
      "Ashgrove Ashgrove\n",
      "Ashgrove Auchenflower\n",
      "Auchenflower Brisbane Airport\n",
      "Auchenflower Brisbane City\n",
      "Auchenflower Algester\n",
      "Auchenflower Archerfield\n",
      "Auchenflower Ascot\n",
      "Auchenflower Ashgrove\n",
      "Auchenflower Auchenflower\n"
     ]
    }
   ],
   "source": [
    "\n",
    "\n",
    "suburbs['common_suburb'] = suburbs['common_suburb'].fillna(0)\n",
    "length = len(suburbs['common_suburb'])\n",
    "all_distances = pd.DataFrame(np.zeros(shape=(length, length)), columns=suburbs['suburb'], index=suburbs['suburb'])\n",
    "\n",
    "for start_suburb in suburbs['common_suburb']:\n",
    "    if start_suburb:\n",
    "        for end_suburb in suburbs['common_suburb']:\n",
    "            if end_suburb:\n",
    "                response = requests.get(f'https://maps.googleapis.com/maps/api/distancematrix/json?units=imperial&origins={start},QLD&destinations={end},QLD&mode=transit&key={API_KEY}')\n",
    "                dict_response = json.loads(response.text)\n",
    "                duration = dict_response['rows'][0]['elements'][0]['duration']['text']\n",
    "                time = int(duration.split(' ')[0])\n",
    "                all_distances['Acacia Ridge']['Acacia Ridge'] = time"
   ]
  },
  {
   "cell_type": "code",
   "execution_count": null,
   "metadata": {},
   "outputs": [],
   "source": []
  }
 ],
 "metadata": {
  "kernelspec": {
   "display_name": "Python 3",
   "language": "python",
   "name": "python3"
  },
  "language_info": {
   "codemirror_mode": {
    "name": "ipython",
    "version": 3
   },
   "file_extension": ".py",
   "mimetype": "text/x-python",
   "name": "python",
   "nbconvert_exporter": "python",
   "pygments_lexer": "ipython3",
   "version": "3.7.1"
  }
 },
 "nbformat": 4,
 "nbformat_minor": 2
}
