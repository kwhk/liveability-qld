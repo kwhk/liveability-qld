{
 "cells": [
  {
   "cell_type": "code",
   "execution_count": 62,
   "metadata": {},
   "outputs": [],
   "source": [
    "import pandas as pd\n",
    "import googlemaps\n",
    "from datetime import datetime\n",
    "import json\n",
    "import requests\n",
    "import math\n",
    "import numpy as np\n",
    "\n",
    "suburbs = pd.read_csv(\"suburbs.csv\")\n",
    "\n",
    "'''\n",
    "Datetime calculations for Google Distance Matrix API.\n",
    "    departure_time is datetime object for Sep 2 2019 at 9:00AM\n",
    "    start_time is datetime object for Jan 1 1970 12:00AM\n",
    "        Distance Matrix API specifies time argument as seconds since start_time\n",
    "    seconds_elapsed is seconds between start_time and departure_time\n",
    "'''\n",
    "departure_time = datetime.strptime('Sep 2 2019  9:00AM', '%b %d %Y %I:%M%p')\n",
    "start_time = a = datetime.strptime('Jan 1 1970  12:00AM', '%b %d %Y %I:%M%p')\n",
    "seconds_since = (departure_time - start_time).total_seconds()\n",
    "\n",
    "start_raw = \"Brisbane City\"\n",
    "start = \"Brisbane City\".replace(\" \", \"+\")\n",
    "end = \"Camp Hill\".replace(\" \", \"+\")\n"
   ]
  },
  {
   "cell_type": "code",
   "execution_count": 110,
   "metadata": {},
   "outputs": [],
   "source": [
    "# Request distance via public transit using Distance Matrix API at Sep 2 2019  9:00AM\n"
   ]
  },
  {
   "cell_type": "code",
   "execution_count": 60,
   "metadata": {},
   "outputs": [
    {
     "name": "stdout",
     "output_type": "stream",
     "text": [
      "Brisbane Airport Brisbane Airport\n",
      "Brisbane Airport Brisbane City\n",
      "Brisbane Airport Algester\n",
      "Brisbane Airport Archerfield\n",
      "Brisbane Airport Ascot\n",
      "Brisbane Airport Ashgrove\n",
      "Brisbane Airport Auchenflower\n",
      "Brisbane City Brisbane Airport\n",
      "Brisbane City Brisbane City\n",
      "Brisbane City Algester\n",
      "Brisbane City Archerfield\n",
      "Brisbane City Ascot\n",
      "Brisbane City Ashgrove\n",
      "Brisbane City Auchenflower\n",
      "Algester Brisbane Airport\n",
      "Algester Brisbane City\n",
      "Algester Algester\n",
      "Algester Archerfield\n",
      "Algester Ascot\n",
      "Algester Ashgrove\n",
      "Algester Auchenflower\n",
      "Archerfield Brisbane Airport\n",
      "Archerfield Brisbane City\n",
      "Archerfield Algester\n",
      "Archerfield Archerfield\n",
      "Archerfield Ascot\n",
      "Archerfield Ashgrove\n",
      "Archerfield Auchenflower\n",
      "Ascot Brisbane Airport\n",
      "Ascot Brisbane City\n",
      "Ascot Algester\n",
      "Ascot Archerfield\n",
      "Ascot Ascot\n",
      "Ascot Ashgrove\n",
      "Ascot Auchenflower\n",
      "Ashgrove Brisbane Airport\n",
      "Ashgrove Brisbane City\n",
      "Ashgrove Algester\n",
      "Ashgrove Archerfield\n",
      "Ashgrove Ascot\n",
      "Ashgrove Ashgrove\n",
      "Ashgrove Auchenflower\n",
      "Auchenflower Brisbane Airport\n",
      "Auchenflower Brisbane City\n",
      "Auchenflower Algester\n",
      "Auchenflower Archerfield\n",
      "Auchenflower Ascot\n",
      "Auchenflower Ashgrove\n",
      "Auchenflower Auchenflower\n"
     ]
    }
   ],
   "source": [
    "suburbs['common_suburb'] = suburbs['common_suburb'].fillna(0)\n",
    "length = len(suburbs['common_suburb'])\n",
    "all_distances = pd.DataFrame(np.zeros(shape=(length, length)), columns=suburbs['suburb'], index=suburbs['suburb'])\n",
    "\n",
    "for start_suburb in suburbs['common_suburb']:\n",
    "    if start_suburb:\n",
    "        for end_suburb in suburbs['common_suburb']:\n",
    "            if end_suburb:\n",
    "                response = requests.get(f'https://maps.googleapis.com/maps/api/distancematrix/json?units=imperial&origins={start},QLD&destinations={end},QLD&mode=transit&key={API_KEY}')\n",
    "                dict_response = json.loads(response.text)\n",
    "                duration = dict_response['rows'][0]['elements'][0]['duration']['text']\n",
    "                time = int(duration.split(' ')[0])\n",
    "                all_distances['Acacia Ridge']['Acacia Ridge'] = time"
   ]
  },
  {
   "cell_type": "code",
   "execution_count": 21,
   "metadata": {},
   "outputs": [],
   "source": [
    "# Shapefile stuff\n",
    "%matplotlib inline\n",
    "\n",
    "import numpy as np\n",
    "import pandas as pd\n",
    "import shapefile as shp\n",
    "import matplotlib.pyplot as plt\n",
    "import seaborn as sns\n",
    "\n",
    "sns.set(style=\"whitegrid\", palette=\"pastel\", color_codes=True)\n",
    "sns.mpl.rc(\"figure\", figsize=(10,6))\n",
    "\n",
    "shp_path = \"shapefiles/sf.shp\"\n",
    "sf = shp.Reader(shp_path)"
   ]
  },
  {
   "cell_type": "code",
   "execution_count": 91,
   "metadata": {},
   "outputs": [
    {
     "data": {
      "text/plain": [
       "numpy.ndarray"
      ]
     },
     "execution_count": 91,
     "metadata": {},
     "output_type": "execute_result"
    }
   ],
   "source": [
    "# i = 0\n",
    "# for record in sf.records():\n",
    "#     if record[-6].title() in suburbs['suburb'].values:\n",
    "        \n",
    "        \n",
    "#         suburbs['suburb'].values.delete()\n",
    "# print(suburbs['suburb'])\n",
    "## WORK IN PROGRESS"
   ]
  },
  {
   "cell_type": "code",
   "execution_count": null,
   "metadata": {},
   "outputs": [],
   "source": []
  }
 ],
 "metadata": {
  "kernelspec": {
   "display_name": "Python 3",
   "language": "python",
   "name": "python3"
  },
  "language_info": {
   "codemirror_mode": {
    "name": "ipython",
    "version": 3
   },
   "file_extension": ".py",
   "mimetype": "text/x-python",
   "name": "python",
   "nbconvert_exporter": "python",
   "pygments_lexer": "ipython3",
   "version": "3.6.7"
  }
 },
 "nbformat": 4,
 "nbformat_minor": 2
}
